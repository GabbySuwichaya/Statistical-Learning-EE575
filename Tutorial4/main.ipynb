{
 "cells": [
  {
   "cell_type": "markdown",
   "metadata": {},
   "source": [
    "## How to create a BNN for a simple regression task."
   ]
  },
  {
   "cell_type": "markdown",
   "metadata": {},
   "source": [
    "### Tutorial 4: Bayesian Neural network "
   ]
  },
  {
   "cell_type": "markdown",
   "metadata": {},
   "source": [
    "to support our learning in Lecture 10. Bayesian neural network in EE2102575\n",
    "\n",
    "by *Suwichaya Suwanwimolkul, Ph.D.*"
   ]
  },
  {
   "cell_type": "markdown",
   "metadata": {},
   "source": [
    "[![Open In Colab](https://colab.research.google.com/assets/colab-badge.svg)](https://colab.research.google.com/github/GabbySuwichaya/Statistical-Learning-EE575/blob/master/Tutorial4/main.ipynb)"
   ]
  },
  {
   "cell_type": "markdown",
   "metadata": {},
   "source": [
    "In this tutorial, we will build two neural networks: (1) static NN and (2) BNN \n",
    "\n",
    "Each network has 2 linear layers with 1 activating function (sigmoid).\n",
    "We set the same learning rate and number of epoches to compare which model is better... \n",
    "\n",
    "You can skip to each of the following topics...\n",
    "- [Install package](#installing-package)\n",
    "- [Import data](#import-data)\n",
    "- [Static neural network](#static-neural-network)\n",
    "- [Bayesian neural network](#bayesian-neural-network)   \n",
    "    - [Gaussian object](#gaussian-object)\n",
    "    - [Gaussian mixture for weight priors](#gaussian-mixture-for-weight-prior)\n",
    "    - [Bayesian Linear Layer](#bayesian-linear-layer)\n",
    "    - [Bayesian Linear Model](#bayesian-linear-model)\n",
    "    - [Training BNN](#training-bnn)\n",
    "- [Learning performance](#learning-performance)\n",
    "- [Testing performance](#testing-performance)\n",
    "\n",
    "Our implementation is based on [Nitarshan's Bayes-by-backprop](https://github.com/nitarshan/bayes-by-backprop) and 'Weight Uncertainty Neural Network' JMRL 2018.\n"
   ]
  },
  {
   "cell_type": "markdown",
   "metadata": {},
   "source": [
    "**Here** is a fews things for you to know when developing BNN. \n",
    "\n",
    "- BNN can be extended from NN module of Pytorch. \n",
    "  \n",
    "- The difference is the sampling process.  \n",
    "\n",
    "  <img src=\"figures/sampling.gif\" alt=\"Sampling\" width=\"200\"/>\n",
    "\n",
    "- Don't forget that for BNN, you will need to sample the weights. \n",
    "\n",
    "  Therefore, you can use these layers to perform the same task and extended it for BNN.   \n",
    "\n",
    "  <img src=\"figures/Fig1.png\" alt=\"BNN Weights\" width=\"400\"/>  \n",
    "\n",
    "- Don't forget then when training BNN, the proceedure will be different:    \n",
    "\n",
    "  <img src=\"figures/Fig2.png\" alt=\"BNN Training\" width=\"600\"/>   \n"
   ]
  },
  {
   "cell_type": "markdown",
   "metadata": {},
   "source": [
    "## Installing package"
   ]
  },
  {
   "cell_type": "code",
   "execution_count": 1,
   "metadata": {},
   "outputs": [],
   "source": [
    "#! pip3 install torch torchvision torchaudio"
   ]
  },
  {
   "cell_type": "markdown",
   "metadata": {},
   "source": [
    "## Import data"
   ]
  },
  {
   "cell_type": "markdown",
   "metadata": {},
   "source": [
    "We will learn about this example through the car-price dataset. \n",
    "Just import the dataset from the MS team! "
   ]
  },
  {
   "cell_type": "code",
   "execution_count": 2,
   "metadata": {},
   "outputs": [],
   "source": [
    "from sklearn.preprocessing import LabelEncoder, StandardScaler\n",
    "from torch.utils.data import Dataset, DataLoader\n",
    "import torch\n",
    "from torch import nn \n",
    "import math\n",
    "\n",
    "import zipfile\n",
    "import numpy as np\n",
    "import pandas as pd \n",
    "import matplotlib.pyplot as plt  \n",
    "\n",
    "from sklearn.model_selection import train_test_split"
   ]
  },
  {
   "cell_type": "code",
   "execution_count": 3,
   "metadata": {},
   "outputs": [],
   "source": [
    "class CustomDataset(Dataset):\n",
    "    def __init__(self, X_train_, y_train_, X_test_=None, y_test_=None, mode=\"Train\"):\n",
    "        self.training_data  = X_train_\n",
    "        self.training_label = y_train_\n",
    "        \n",
    "        if mode == \"Train\":\n",
    "            self.data  = X_train_\n",
    "            self.label = y_train_\n",
    "            self.length = X_train_.shape[0]\n",
    "\n",
    "        elif  mode == \"Test\" or mode == \"Valid\":\n",
    "            assert X_test_ is not None\n",
    "            assert y_test_ is not None\n",
    "\n",
    "            self.data   = X_test_\n",
    "            self.label  = y_test_\n",
    "            self.length = X_test_.shape[0]\n",
    " \n",
    "\n",
    "        self.XScaler    = StandardScaler()\n",
    "        self.training_data = self.XScaler.fit_transform(self.training_data).astype(\"float32\")\n",
    "        self.data          = self.XScaler.transform(self.data).astype(\"float32\") \n",
    "\n",
    "        self.YScaler = StandardScaler()\n",
    "        self.training_label = self.YScaler.fit_transform(self.training_label).astype(\"float32\") \n",
    "        self.label          = self.YScaler.transform(self.label).astype(\"float32\")\n",
    "\n",
    "    def __len__(self):\n",
    "        return self.length\n",
    "\n",
    "    def __getitem__(self, idx):\n",
    "        sample = self.data[idx, :] \n",
    "        label  = self.label[idx] \n",
    "        return sample, label"
   ]
  },
  {
   "cell_type": "code",
   "execution_count": null,
   "metadata": {},
   "outputs": [],
   "source": [
    "foldername = \"vehicle-dataset\"\n",
    "\n",
    "with zipfile.ZipFile(\"vehicle-dataset-from-cardekho.zip\",\"r\") as zip_ref:\n",
    "    zip_ref.extractall(foldername)\n",
    "\n",
    "df = pd.read_csv('%s/car data.csv' % foldername)\n",
    "\n",
    "df[['Car_Name', 'Fuel_Type','Seller_Type','Transmission']] = df.loc[:,['Car_Name', 'Fuel_Type','Seller_Type','Transmission']].apply(LabelEncoder().fit_transform)\n",
    "print(\"After Encoding: \")\n",
    "print(np.unique(df['Car_Name'].values))\n",
    "print(np.unique(df['Transmission'].values))\n",
    "print(np.unique(df['Fuel_Type'].values))\n",
    "print(np.unique(df['Seller_Type'].values))\n",
    "\n",
    "Feat_List = ['Car_Name', 'Year', 'Present_Price', 'Kms_Driven', 'Fuel_Type','Seller_Type','Transmission', 'Owner']\n",
    "dfX = df.loc[:, Feat_List].values\n",
    "dfy = df['Selling_Price'].values.reshape(-1,1)\n",
    "\n",
    "X_train_, X_test_, y_train_, y_test_ = train_test_split(dfX, dfy, test_size=0.2, random_state= 0)\n",
    "X_train_, X_val_, y_train_, y_val_   = train_test_split(X_train_, y_train_, test_size=0.2, random_state=0)\n",
    "\n",
    "\n",
    "TrainingData = CustomDataset(X_train_, y_train_, mode=\"Train\")\n",
    "ValidateData = CustomDataset(X_train_, y_train_, X_val_,  y_val_,  mode=\"Valid\")\n",
    "TestingData  = CustomDataset(X_train_, y_train_, X_test_, y_test_, mode=\"Test\")"
   ]
  },
  {
   "cell_type": "markdown",
   "metadata": {},
   "source": [
    "##### You can use the following cell to explore your training data. "
   ]
  },
  {
   "cell_type": "code",
   "execution_count": 5,
   "metadata": {},
   "outputs": [
    {
     "name": "stderr",
     "output_type": "stream",
     "text": [
      "[60] ...my message : 100%|██████████| 61/61 [00:00<00:00, 5413.38it/s]\n"
     ]
    }
   ],
   "source": [
    "from tqdm import tqdm\n",
    "testing_dataloader = DataLoader(TestingData, batch_size=1, shuffle=False)\n",
    "\n",
    "pbar  = tqdm(testing_dataloader)\n",
    "\n",
    "for i, data in enumerate(pbar): \n",
    "    \n",
    "    data_x, data_y = data  \n",
    "    \n",
    "    pbar.set_description(\"[%d] ...my message \" % (i))\n"
   ]
  },
  {
   "cell_type": "markdown",
   "metadata": {},
   "source": [
    "# Static Neural Network"
   ]
  },
  {
   "cell_type": "markdown",
   "metadata": {},
   "source": [
    "This example we define 2 linear layers for an NN where MSE loss is used in training the model for regression task. "
   ]
  },
  {
   "cell_type": "code",
   "execution_count": 6,
   "metadata": {},
   "outputs": [],
   "source": [
    "class LinearModel(nn.Module):\n",
    "    def __init__(self, in_features=4, out_features=1):\n",
    "        super().__init__() \n",
    "        # Weight parameters\n",
    "        self.fc1 = nn.Linear(in_features,16)  \n",
    "        self.fc2 = nn.Linear(16, out_features)   \n",
    "        self.fc3 = nn.Sigmoid()\n",
    "        self.loss = nn.MSELoss() \n",
    "\n",
    "    def forward(self, x): \n",
    "        x = self.fc1(x)\n",
    "        x = self.fc2(x) \n",
    "        x = self.fc3(x)\n",
    "        return x\n",
    "    \n",
    "    def mseloss(self, y_predict, y_gt):\n",
    "        loss = self.loss(y_predict, y_gt)   \n",
    "        return loss  "
   ]
  },
  {
   "cell_type": "code",
   "execution_count": 7,
   "metadata": {},
   "outputs": [],
   "source": [
    "## Initialize the model and set the optimizer for training. \n",
    "\n",
    "import torch.optim as optim\n",
    "\n",
    "in_features  = 8\n",
    "out_features = 1\n",
    "\n",
    "## Initialize the model\n",
    "myLinModel = LinearModel(in_features=in_features, out_features=out_features)\n",
    "\n",
    "## Set the optimizer for training.\n",
    "optimizer  = optim.Adam(myLinModel.parameters(), lr=0.01)"
   ]
  },
  {
   "cell_type": "markdown",
   "metadata": {},
   "source": [
    "Training Linear Model with validation"
   ]
  },
  {
   "cell_type": "code",
   "execution_count": 8,
   "metadata": {},
   "outputs": [
    {
     "name": "stderr",
     "output_type": "stream",
     "text": [
      "[EP0][11] TRAIN Av. Loss = 0.72: 100%|██████████| 12/12 [00:00<00:00, 1266.62it/s]\n",
      "-----[47] VALID Av. Loss = 18.39: 100%|██████████| 48/48 [00:00<00:00, 2982.00it/s]\n"
     ]
    },
    {
     "name": "stdout",
     "output_type": "stream",
     "text": [
      "Training ERROR 0.02 Valid ERROR: 26.17\n"
     ]
    },
    {
     "name": "stderr",
     "output_type": "stream",
     "text": [
      "[EP1][11] TRAIN Av. Loss = 2.07: 100%|██████████| 12/12 [00:00<00:00, 2178.86it/s]\n",
      "-----[47] VALID Av. Loss = 22.35: 100%|██████████| 48/48 [00:00<00:00, 3018.84it/s]\n"
     ]
    },
    {
     "name": "stdout",
     "output_type": "stream",
     "text": [
      "Training ERROR 0.01 Valid ERROR: 19.75\n"
     ]
    },
    {
     "name": "stderr",
     "output_type": "stream",
     "text": [
      "[EP2][11] TRAIN Av. Loss = 0.46: 100%|██████████| 12/12 [00:00<00:00, 1661.82it/s]\n",
      "-----[47] VALID Av. Loss = 20.18: 100%|██████████| 48/48 [00:00<00:00, 2665.84it/s]\n"
     ]
    },
    {
     "name": "stdout",
     "output_type": "stream",
     "text": [
      "Training ERROR 0.01 Valid ERROR: 18.20\n"
     ]
    },
    {
     "name": "stderr",
     "output_type": "stream",
     "text": [
      "[EP3][11] TRAIN Av. Loss = 0.46: 100%|██████████| 12/12 [00:00<00:00, 2109.81it/s]\n",
      "-----[47] VALID Av. Loss = 26.09: 100%|██████████| 48/48 [00:00<00:00, 3130.03it/s]\n"
     ]
    },
    {
     "name": "stdout",
     "output_type": "stream",
     "text": [
      "Training ERROR 0.01 Valid ERROR: 17.93\n"
     ]
    },
    {
     "name": "stderr",
     "output_type": "stream",
     "text": [
      "[EP4][11] TRAIN Av. Loss = 0.53: 100%|██████████| 12/12 [00:00<00:00, 1721.98it/s]\n",
      "-----[47] VALID Av. Loss = 14.43: 100%|██████████| 48/48 [00:00<00:00, 2360.88it/s]\n"
     ]
    },
    {
     "name": "stdout",
     "output_type": "stream",
     "text": [
      "Training ERROR 0.01 Valid ERROR: 17.99\n"
     ]
    },
    {
     "name": "stderr",
     "output_type": "stream",
     "text": [
      "[EP5][11] TRAIN Av. Loss = 1.74: 100%|██████████| 12/12 [00:00<00:00, 2065.91it/s]\n",
      "-----[47] VALID Av. Loss = 15.77: 100%|██████████| 48/48 [00:00<00:00, 1925.65it/s]\n"
     ]
    },
    {
     "name": "stdout",
     "output_type": "stream",
     "text": [
      "Training ERROR 0.01 Valid ERROR: 18.04\n"
     ]
    },
    {
     "name": "stderr",
     "output_type": "stream",
     "text": [
      "[EP6][11] TRAIN Av. Loss = 1.82: 100%|██████████| 12/12 [00:00<00:00, 1649.35it/s]\n",
      "-----[47] VALID Av. Loss = 178.31: 100%|██████████| 48/48 [00:00<00:00, 2084.08it/s]\n"
     ]
    },
    {
     "name": "stdout",
     "output_type": "stream",
     "text": [
      "Training ERROR 0.01 Valid ERROR: 17.42\n"
     ]
    },
    {
     "name": "stderr",
     "output_type": "stream",
     "text": [
      "[EP7][11] TRAIN Av. Loss = 0.34: 100%|██████████| 12/12 [00:00<00:00, 1820.25it/s]\n",
      "-----[47] VALID Av. Loss = 0.22: 100%|██████████| 48/48 [00:00<00:00, 2510.90it/s]\n"
     ]
    },
    {
     "name": "stdout",
     "output_type": "stream",
     "text": [
      "Training ERROR 0.01 Valid ERROR: 17.02\n"
     ]
    },
    {
     "name": "stderr",
     "output_type": "stream",
     "text": [
      "[EP8][11] TRAIN Av. Loss = 1.81: 100%|██████████| 12/12 [00:00<00:00, 1953.41it/s]\n",
      "-----[47] VALID Av. Loss = 16.50: 100%|██████████| 48/48 [00:00<00:00, 2407.95it/s]\n"
     ]
    },
    {
     "name": "stdout",
     "output_type": "stream",
     "text": [
      "Training ERROR 0.01 Valid ERROR: 17.00\n"
     ]
    },
    {
     "name": "stderr",
     "output_type": "stream",
     "text": [
      "[EP9][11] TRAIN Av. Loss = 2.05: 100%|██████████| 12/12 [00:00<00:00, 1673.26it/s]\n",
      "-----[47] VALID Av. Loss = 23.98: 100%|██████████| 48/48 [00:00<00:00, 1708.18it/s]\n"
     ]
    },
    {
     "name": "stdout",
     "output_type": "stream",
     "text": [
      "Training ERROR 0.01 Valid ERROR: 17.15\n"
     ]
    },
    {
     "name": "stderr",
     "output_type": "stream",
     "text": [
      "[EP10][11] TRAIN Av. Loss = 0.46: 100%|██████████| 12/12 [00:00<00:00, 1737.67it/s]\n",
      "-----[47] VALID Av. Loss = 0.16: 100%|██████████| 48/48 [00:00<00:00, 2376.83it/s]\n"
     ]
    },
    {
     "name": "stdout",
     "output_type": "stream",
     "text": [
      "Training ERROR 0.01 Valid ERROR: 18.10\n"
     ]
    },
    {
     "name": "stderr",
     "output_type": "stream",
     "text": [
      "[EP11][11] TRAIN Av. Loss = 0.36: 100%|██████████| 12/12 [00:00<00:00, 1736.77it/s]\n",
      "-----[47] VALID Av. Loss = 6.87: 100%|██████████| 48/48 [00:00<00:00, 1926.87it/s]\n"
     ]
    },
    {
     "name": "stdout",
     "output_type": "stream",
     "text": [
      "Training ERROR 0.01 Valid ERROR: 19.11\n"
     ]
    },
    {
     "name": "stderr",
     "output_type": "stream",
     "text": [
      "[EP12][11] TRAIN Av. Loss = 0.37: 100%|██████████| 12/12 [00:00<00:00, 1822.82it/s]\n",
      "-----[47] VALID Av. Loss = 3.32: 100%|██████████| 48/48 [00:00<00:00, 2463.37it/s]\n"
     ]
    },
    {
     "name": "stdout",
     "output_type": "stream",
     "text": [
      "Training ERROR 0.01 Valid ERROR: 19.03\n"
     ]
    },
    {
     "name": "stderr",
     "output_type": "stream",
     "text": [
      "[EP13][11] TRAIN Av. Loss = 0.30: 100%|██████████| 12/12 [00:00<00:00, 1348.76it/s]\n",
      "-----[47] VALID Av. Loss = 16.58: 100%|██████████| 48/48 [00:00<00:00, 2300.27it/s]\n"
     ]
    },
    {
     "name": "stdout",
     "output_type": "stream",
     "text": [
      "Training ERROR 0.01 Valid ERROR: 18.86\n"
     ]
    },
    {
     "name": "stderr",
     "output_type": "stream",
     "text": [
      "[EP14][11] TRAIN Av. Loss = 1.56: 100%|██████████| 12/12 [00:00<00:00, 1717.22it/s]\n",
      "-----[47] VALID Av. Loss = 3.69: 100%|██████████| 48/48 [00:00<00:00, 2885.62it/s]\n"
     ]
    },
    {
     "name": "stdout",
     "output_type": "stream",
     "text": [
      "Training ERROR 0.01 Valid ERROR: 18.72\n"
     ]
    },
    {
     "name": "stderr",
     "output_type": "stream",
     "text": [
      "[EP15][11] TRAIN Av. Loss = 0.31: 100%|██████████| 12/12 [00:00<00:00, 2058.89it/s]\n",
      "-----[47] VALID Av. Loss = 40.05: 100%|██████████| 48/48 [00:00<00:00, 2919.81it/s]\n"
     ]
    },
    {
     "name": "stdout",
     "output_type": "stream",
     "text": [
      "Training ERROR 0.01 Valid ERROR: 18.80\n"
     ]
    },
    {
     "name": "stderr",
     "output_type": "stream",
     "text": [
      "[EP16][11] TRAIN Av. Loss = 1.71: 100%|██████████| 12/12 [00:00<00:00, 1680.30it/s]\n",
      "-----[47] VALID Av. Loss = 16.99: 100%|██████████| 48/48 [00:00<00:00, 2193.67it/s]\n"
     ]
    },
    {
     "name": "stdout",
     "output_type": "stream",
     "text": [
      "Training ERROR 0.01 Valid ERROR: 18.80\n"
     ]
    },
    {
     "name": "stderr",
     "output_type": "stream",
     "text": [
      "[EP17][11] TRAIN Av. Loss = 0.48: 100%|██████████| 12/12 [00:00<00:00, 1978.52it/s]\n",
      "-----[47] VALID Av. Loss = 4.09: 100%|██████████| 48/48 [00:00<00:00, 2859.87it/s]\n"
     ]
    },
    {
     "name": "stdout",
     "output_type": "stream",
     "text": [
      "Training ERROR 0.01 Valid ERROR: 18.81\n"
     ]
    },
    {
     "name": "stderr",
     "output_type": "stream",
     "text": [
      "[EP18][11] TRAIN Av. Loss = 0.26: 100%|██████████| 12/12 [00:00<00:00, 2045.92it/s]\n",
      "-----[47] VALID Av. Loss = 5.74: 100%|██████████| 48/48 [00:00<00:00, 3104.16it/s]\n"
     ]
    },
    {
     "name": "stdout",
     "output_type": "stream",
     "text": [
      "Training ERROR 0.01 Valid ERROR: 18.81\n"
     ]
    },
    {
     "name": "stderr",
     "output_type": "stream",
     "text": [
      "[EP19][11] TRAIN Av. Loss = 3.15: 100%|██████████| 12/12 [00:00<00:00, 1993.57it/s]\n",
      "-----[47] VALID Av. Loss = 16.74: 100%|██████████| 48/48 [00:00<00:00, 1856.95it/s]"
     ]
    },
    {
     "name": "stdout",
     "output_type": "stream",
     "text": [
      "Training ERROR 0.01 Valid ERROR: 18.81\n"
     ]
    },
    {
     "name": "stderr",
     "output_type": "stream",
     "text": [
      "\n"
     ]
    }
   ],
   "source": [
    "my_NN_training_loss = []\n",
    "my_NN_validating_loss = []\n",
    "my_NN_MSE_inv_error = []\n",
    "num_epoch = 20 \n",
    "\n",
    "for ep in range(num_epoch): \n",
    "\n",
    "\n",
    "    av_valid_loss = 0\n",
    "    av_mse_valid_loss = 0\n",
    "    av_training_loss = 0 \n",
    "\n",
    "    training_dataloader = DataLoader(TrainingData, batch_size=16, shuffle=True)\n",
    "    pbar  = tqdm(training_dataloader)\n",
    "\n",
    "    # Setting model for training\n",
    "    myLinModel = myLinModel.train()\n",
    "    for i, (X, y_gt) in enumerate(pbar):  \n",
    "\n",
    "        y_pred         = myLinModel(X) \n",
    "        loss           = myLinModel.mseloss(y_pred, y_gt)\n",
    "\n",
    "        loss.backward()  # Backward pass\n",
    "        optimizer.step()  # Optimize parameters\n",
    "        av_training_loss += loss.item()\n",
    "\n",
    "        pbar.set_description(\"[EP%d][%d] TRAIN Av. Loss = %0.2f\" % (ep, i, loss.item()))\n",
    "\n",
    "\n",
    "    my_NN_training_loss.append(av_training_loss/(16*(i+1)))  \n",
    "    # Setting model for validating \n",
    "    valid_dataloader = DataLoader(ValidateData, batch_size=1, shuffle=True)\n",
    "    pbar  = tqdm(valid_dataloader)\n",
    "    myLinModel.eval()\n",
    "    for i, (X, y_gt) in enumerate(pbar):  \n",
    "\n",
    "        with torch.no_grad():\n",
    "            y_pred         = myLinModel(X)  \n",
    "\n",
    "        y_pred_inverse = ValidateData.YScaler.inverse_transform(y_pred)\n",
    "        y_gt_inverse   = ValidateData.YScaler.inverse_transform(y_gt)\n",
    "\n",
    "        valid_loss      = myLinModel.mseloss(y_pred, y_gt)\n",
    "        mse_inv_error   = myLinModel.mseloss(torch.tensor(y_pred_inverse), torch.tensor(y_gt_inverse))\n",
    " \n",
    "        av_valid_loss += valid_loss.item()\n",
    "        av_mse_valid_loss +=mse_inv_error.item()  \n",
    " \n",
    "\n",
    "        pbar.set_description(\"-----[%d] VALID Av. Loss = %0.2f\" % ( i, mse_inv_error.item()))    \n",
    "\n",
    "    print(\"Training ERROR %0.2f Valid ERROR: %0.2f\" %(av_training_loss/(16*(i+1)), av_mse_valid_loss/(i+1)))\n",
    "    my_NN_validating_loss.append(av_valid_loss/((i+1)))\n",
    "    my_NN_MSE_inv_error.append(av_mse_valid_loss/(i+1))"
   ]
  },
  {
   "cell_type": "markdown",
   "metadata": {},
   "source": [
    "# Bayesian Neural Network"
   ]
  },
  {
   "cell_type": "markdown",
   "metadata": {},
   "source": [
    "- Let's assume that the weights and biases are sampled from Gaussian distribution. \n",
    "\n",
    "- We assume that the prior of the weights are from Gaussian mixture (following the paper 'Weight Uncertainty Neural Network' JMRL 2018)\n",
    "\n",
    "- Then, the configuration for BNN follows:\n",
    "\n",
    "    - Customize a new layer, called `BayesianLinearLayer`\n",
    "\n",
    "    - Putting the new layers in `BayesianLinearModel` which is built on `torch.nn.module`\n",
    "\n",
    "    - The main difference to standard NN is the additional part of `sampling` and `log-probability` calculation."
   ]
  },
  {
   "cell_type": "markdown",
   "metadata": {},
   "source": [
    "### Gaussian object"
   ]
  },
  {
   "cell_type": "markdown",
   "metadata": {},
   "source": [
    "To generate the Gaussian samples for weights and biases. "
   ]
  },
  {
   "cell_type": "code",
   "execution_count": 9,
   "metadata": {},
   "outputs": [],
   "source": [
    "import torch.nn.functional as F\n",
    "import math\n",
    "\n",
    "class Gaussian(object):\n",
    "    def __init__(self, mu, rho):\n",
    "        super().__init__()\n",
    "        self.mu = mu\n",
    "        self.rho = rho\n",
    "        self.normal = torch.distributions.Normal(0,1)\n",
    "    \n",
    "    @property\n",
    "    def sigma(self):\n",
    "        return torch.log1p(torch.exp(self.rho))\n",
    "    \n",
    "    def sample(self):\n",
    "        epsilon = self.normal.sample(self.rho.size())\n",
    "        return self.mu + self.sigma * epsilon\n",
    "    \n",
    "    def log_prob(self, input):\n",
    "        return (-math.log(math.sqrt(2 * math.pi)) - torch.log(self.sigma) - ((input - self.mu) ** 2) / (2 * self.sigma ** 2)).sum()"
   ]
  },
  {
   "cell_type": "markdown",
   "metadata": {},
   "source": [
    "### Gaussian Mixture for weight prior"
   ]
  },
  {
   "cell_type": "markdown",
   "metadata": {},
   "source": [
    "To generate the probability for the weights prior as a Gaussian mixture following 'Weight Uncertainty Neural Network' JMRL 2015."
   ]
  },
  {
   "cell_type": "code",
   "execution_count": 10,
   "metadata": {},
   "outputs": [],
   "source": [
    "class ScaleMixtureGaussian(object):\n",
    "    def __init__(self, pi, sigma1, sigma2):\n",
    "        super().__init__()\n",
    "        self.pi = pi\n",
    "        self.sigma1 = sigma1\n",
    "        self.sigma2 = sigma2\n",
    "        self.gaussian1 = torch.distributions.Normal(0,sigma1)\n",
    "        self.gaussian2 = torch.distributions.Normal(0,sigma2)\n",
    "    \n",
    "    def log_prob(self, input):\n",
    "        prob1 = torch.exp(self.gaussian1.log_prob(input))\n",
    "        prob2 = torch.exp(self.gaussian2.log_prob(input))\n",
    "        return (torch.log(self.pi * prob1 + (1-self.pi) * prob2)).sum()"
   ]
  },
  {
   "cell_type": "markdown",
   "metadata": {},
   "source": [
    "### Bayesian Linear Layer"
   ]
  },
  {
   "cell_type": "markdown",
   "metadata": {},
   "source": [
    "For each Bayesian linear layer, the weight and bias are sampled from a pre-defined probability distribution (Gaussian)\n",
    "\n",
    "- The mean and variance for weights are contained in `self.weight_mu` and `self.weight_rho`\n",
    "\n",
    "- The mean and variance for bias are contained in `self.bias_mu` and `self.bias_rho`\n",
    "\n",
    "- The prior probability of weigths and bias are defined by \n",
    "    \n",
    "    ```\n",
    "        self.weight_prior = ScaleMixtureGaussian(pi, sigma1, sigma2)\n",
    "        self.bias_prior   = ScaleMixtureGaussian(pi, sigma1, sigma2)\n",
    "    ```\n",
    "\n",
    "- Note that if we run `BayesianLinearLayer` with `sample=False`, \n",
    "    then the foward function will return the sample mean of self.weight and bias\n"
   ]
  },
  {
   "cell_type": "code",
   "execution_count": 11,
   "metadata": {},
   "outputs": [],
   "source": [
    "class BayesianLinearLayer(nn.Module):\n",
    "    def __init__(self, pi, sigma1, sigma2, in_features=16, out_features=16):\n",
    "        super().__init__() \n",
    "        self.in_features = in_features\n",
    "        self.out_features = out_features\n",
    "\n",
    "        # Weight parameters\n",
    "        self.weight_mu  = nn.Parameter(torch.Tensor(out_features, in_features).uniform_(-0.2, 0.2))\n",
    "        self.weight_rho = nn.Parameter(torch.Tensor(out_features, in_features).uniform_(-5,-4))\n",
    "        self.weight     = Gaussian(self.weight_mu, self.weight_rho)\n",
    "        # Bias parameters\n",
    "        self.bias_mu  = nn.Parameter(torch.Tensor(out_features).uniform_(-0.2, 0.2))\n",
    "        self.bias_rho = nn.Parameter(torch.Tensor(out_features).uniform_(-5,-4))\n",
    "        self.bias     = Gaussian(self.bias_mu, self.bias_rho) \n",
    "\n",
    "        self.log_prior = 0\n",
    "        self.log_variational_posterior = 0\n",
    "\n",
    "        # Define prior for parameters \n",
    "        self.weight_prior = ScaleMixtureGaussian(pi, sigma1, sigma2)\n",
    "        self.bias_prior   = ScaleMixtureGaussian(pi, sigma1, sigma2)\n",
    "\n",
    "    def forward(self, input, sample=False):\n",
    "        \n",
    "        if sample == True: \n",
    "            weight = self.weight.sample()\n",
    "            bias = self.bias.sample()\n",
    "\n",
    "            self.log_prior_W             = self.weight_prior.log_prob(weight)  +  self.bias_prior.log_prob(bias)  \n",
    "            self.log_q_posterior         = self.weight.log_prob(weight)        +  self.bias.log_prob(bias) \n",
    "\n",
    "        else:\n",
    "            weight = self.weight.mu\n",
    "            bias = self.bias.mu\n",
    "\n",
    "        return F.linear(input, weight, bias) \n",
    "     "
   ]
  },
  {
   "cell_type": "markdown",
   "metadata": {},
   "source": [
    "### Bayesian Linear Model"
   ]
  },
  {
   "cell_type": "markdown",
   "metadata": {},
   "source": [
    "The init and forward functions are similar to the static NN. \n",
    "Except that we added the following parts to facilitate the calculation of the training loss in the Bayes-by-backprop Algorithm in Lecture 10. \n",
    "\n",
    "\n",
    "- `log_prior` to calculate the log of probability of the weights prior\n",
    "\n",
    "- `log_q_posterior` to calculate the log of the proposal probability of the weights given the updated hyper-parameters.\n",
    "\n",
    "- `ELBO_loss` to calculate the training loss in the Bayes-by-backprop Algorithm for each $i$th Monte Carlo sample as follows:\n",
    "\n",
    "\n",
    "    $$ ELBO(i) =  \\log{(q^i \\vert w^i)} - \\log{(D \\vert w^i)} + \\log{(w^i)}$$\n",
    "\n",
    "    where each of these terms correspond to the following variables:\n",
    "\n",
    "    - $\\log{(q^i \\vert w^i)}$ : `self.log_q_posterior`\n",
    "\n",
    "    - $\\log{(D \\vert w^i)}$   : `negative_log_likelihood` (you can use the Gaussian Distribution for the likelihood, or `F.nll_loss(outputs.mean(0), target, size_average=False)`)\n",
    "    \n",
    "    - $\\log{(w^i)}$           : `self.log_prior()`\n",
    "\n",
    " "
   ]
  },
  {
   "cell_type": "code",
   "execution_count": 12,
   "metadata": {},
   "outputs": [],
   "source": [
    "import torch\n",
    "import torch.nn as nn \n",
    "import math\n",
    "\n",
    "class BayesianLinearModel(nn.Module):\n",
    "    def __init__(self, in_features=4, out_features=1): \n",
    "        super().__init__()\n",
    "        pi = 0.5\n",
    "        sigma1 = torch.Tensor([math.exp(-0)])\n",
    "        sigma2 = torch.Tensor([math.exp(-1)])\n",
    "\n",
    "        self.fc1 = BayesianLinearLayer(pi, sigma1, sigma2, in_features=in_features, out_features=16)   # nn.Linear(in_features,16)\n",
    "        self.fc2 = BayesianLinearLayer(pi, sigma1, sigma2, in_features=16, out_features=out_features)  # nn.Linear(16, out_features)\n",
    "        self.fc3 = nn.Sigmoid() \n",
    "\n",
    "    def forward(self, x, sample=False):\n",
    "        x = self.fc1(x, sample=sample)\n",
    "        x = self.fc2(x, sample=sample)\n",
    "        y = self.fc3(x) \n",
    "        return y\n",
    "    \n",
    "    def log_prior(self):\n",
    "        return self.fc1.log_prior_W + self.fc2.log_prior_W  \n",
    "    \n",
    "    def log_q_posterior(self):\n",
    "        return self.fc1.log_q_posterior + self.fc2.log_q_posterior\n",
    "\n",
    "    def neglog_prob(self, y_pred, y_target):\n",
    "        sigma = torch.norm(y_pred - y_target,p=2)\n",
    "        return -(-math.log(math.sqrt(2 * math.pi)) - torch.log(sigma) - ((y_pred - y_target) ** 2) / (2 * sigma**2)).sum()  \n",
    "    \n",
    "    def ELBO_loss(self,  input, target, num_samples=1): \n",
    "        b, cl = target.shape\n",
    "\n",
    "        outputs                    = torch.zeros(num_samples, b, cl)\n",
    "        log_priors                 = torch.zeros(num_samples)\n",
    "        log_q_posterior            = torch.zeros(num_samples)\n",
    "\n",
    "        for i in range(num_samples):\n",
    "            outputs[i]                    = self(input, sample=True) # Call 'forward(self, x, sample=False)'\n",
    "            log_priors[i]                 = self.log_prior()\n",
    "            log_q_posterior[i]            = self.log_q_posterior()\n",
    "        \n",
    "        log_prior                          = log_priors.mean()\n",
    "        log_q_posterior                    = log_q_posterior.mean()\n",
    "        average_output                     = outputs #.mean(dim=0)  \n",
    "        negative_log_likelihood            = self.neglog_prob(average_output, target)/num_samples\n",
    "        loss                               = negative_log_likelihood -  (log_q_posterior + log_prior)/b \n",
    "        return loss\n"
   ]
  },
  {
   "cell_type": "markdown",
   "metadata": {},
   "source": [
    "## Training BNN"
   ]
  },
  {
   "cell_type": "markdown",
   "metadata": {},
   "source": [
    "Back-by-propagation follows the steps in this figure:\n",
    "\n",
    "  <img src=\"figures/Fig2.png\" alt=\"BNN Training\" width=\"600\"/>   "
   ]
  },
  {
   "cell_type": "code",
   "execution_count": 13,
   "metadata": {},
   "outputs": [],
   "source": [
    "import torch.optim as optim\n",
    "\n",
    "in_features  = 8\n",
    "out_features = 1\n",
    "\n",
    "## Initialize the model\n",
    "myBayesModel = BayesianLinearModel(in_features=in_features, out_features=out_features)\n",
    "\n",
    "## Set the optimizer for training.\n",
    "optimizer  = optim.Adam(myBayesModel.parameters(), lr=0.01)"
   ]
  },
  {
   "cell_type": "code",
   "execution_count": 14,
   "metadata": {},
   "outputs": [
    {
     "name": "stderr",
     "output_type": "stream",
     "text": [
      "[EP0][11] TRAIN Av. Loss = 40.91: 100%|██████████| 12/12 [00:01<00:00,  9.50it/s]\n",
      "-----[99] VALID Av. Loss = 1.28: 100%|██████████| 48/48 [00:01<00:00, 30.42it/s]\n"
     ]
    },
    {
     "name": "stdout",
     "output_type": "stream",
     "text": [
      "Training ERROR 0.34 Valid ERROR: 12.02\n"
     ]
    },
    {
     "name": "stderr",
     "output_type": "stream",
     "text": [
      "[EP1][11] TRAIN Av. Loss = 39.47: 100%|██████████| 12/12 [00:01<00:00,  9.09it/s]\n",
      "-----[99] VALID Av. Loss = 0.39: 100%|██████████| 48/48 [00:01<00:00, 29.97it/s]\n"
     ]
    },
    {
     "name": "stdout",
     "output_type": "stream",
     "text": [
      "Training ERROR 0.31 Valid ERROR: 9.38\n"
     ]
    },
    {
     "name": "stderr",
     "output_type": "stream",
     "text": [
      "[EP2][11] TRAIN Av. Loss = 37.78: 100%|██████████| 12/12 [00:01<00:00,  9.77it/s]\n",
      "-----[99] VALID Av. Loss = 0.37: 100%|██████████| 48/48 [00:01<00:00, 30.35it/s]\n"
     ]
    },
    {
     "name": "stdout",
     "output_type": "stream",
     "text": [
      "Training ERROR 0.30 Valid ERROR: 8.37\n"
     ]
    },
    {
     "name": "stderr",
     "output_type": "stream",
     "text": [
      "[EP3][11] TRAIN Av. Loss = 48.54: 100%|██████████| 12/12 [00:01<00:00,  9.42it/s]\n",
      "-----[99] VALID Av. Loss = 0.17: 100%|██████████| 48/48 [00:01<00:00, 30.06it/s]\n"
     ]
    },
    {
     "name": "stdout",
     "output_type": "stream",
     "text": [
      "Training ERROR 0.28 Valid ERROR: 7.76\n"
     ]
    },
    {
     "name": "stderr",
     "output_type": "stream",
     "text": [
      "[EP4][11] TRAIN Av. Loss = 32.24: 100%|██████████| 12/12 [00:01<00:00,  9.74it/s]\n",
      "-----[99] VALID Av. Loss = 0.67: 100%|██████████| 48/48 [00:01<00:00, 30.01it/s]\n"
     ]
    },
    {
     "name": "stdout",
     "output_type": "stream",
     "text": [
      "Training ERROR 0.27 Valid ERROR: 7.48\n"
     ]
    },
    {
     "name": "stderr",
     "output_type": "stream",
     "text": [
      "[EP5][11] TRAIN Av. Loss = 39.67: 100%|██████████| 12/12 [00:01<00:00,  9.58it/s]\n",
      "-----[99] VALID Av. Loss = 0.16: 100%|██████████| 48/48 [00:01<00:00, 30.94it/s]\n"
     ]
    },
    {
     "name": "stdout",
     "output_type": "stream",
     "text": [
      "Training ERROR 0.26 Valid ERROR: 7.45\n"
     ]
    },
    {
     "name": "stderr",
     "output_type": "stream",
     "text": [
      "[EP6][11] TRAIN Av. Loss = 31.79: 100%|██████████| 12/12 [00:01<00:00,  9.88it/s]\n",
      "-----[99] VALID Av. Loss = 4.82: 100%|██████████| 48/48 [00:01<00:00, 29.87it/s]\n"
     ]
    },
    {
     "name": "stdout",
     "output_type": "stream",
     "text": [
      "Training ERROR 0.25 Valid ERROR: 7.45\n"
     ]
    },
    {
     "name": "stderr",
     "output_type": "stream",
     "text": [
      "[EP7][11] TRAIN Av. Loss = 29.66: 100%|██████████| 12/12 [00:01<00:00,  9.74it/s]\n",
      "-----[99] VALID Av. Loss = 0.04: 100%|██████████| 48/48 [00:01<00:00, 30.32it/s]\n"
     ]
    },
    {
     "name": "stdout",
     "output_type": "stream",
     "text": [
      "Training ERROR 0.24 Valid ERROR: 7.42\n"
     ]
    },
    {
     "name": "stderr",
     "output_type": "stream",
     "text": [
      "[EP8][11] TRAIN Av. Loss = 36.75: 100%|██████████| 12/12 [00:01<00:00,  9.31it/s]\n",
      "-----[99] VALID Av. Loss = 0.70: 100%|██████████| 48/48 [00:01<00:00, 30.29it/s]\n"
     ]
    },
    {
     "name": "stdout",
     "output_type": "stream",
     "text": [
      "Training ERROR 0.23 Valid ERROR: 7.43\n"
     ]
    },
    {
     "name": "stderr",
     "output_type": "stream",
     "text": [
      "[EP9][11] TRAIN Av. Loss = 27.88: 100%|██████████| 12/12 [00:01<00:00,  9.63it/s]\n",
      "-----[99] VALID Av. Loss = 0.66: 100%|██████████| 48/48 [00:01<00:00, 30.60it/s]\n"
     ]
    },
    {
     "name": "stdout",
     "output_type": "stream",
     "text": [
      "Training ERROR 0.22 Valid ERROR: 7.44\n"
     ]
    },
    {
     "name": "stderr",
     "output_type": "stream",
     "text": [
      "[EP10][11] TRAIN Av. Loss = 25.16: 100%|██████████| 12/12 [00:01<00:00,  9.93it/s]\n",
      "-----[99] VALID Av. Loss = 0.02: 100%|██████████| 48/48 [00:01<00:00, 30.39it/s]\n"
     ]
    },
    {
     "name": "stdout",
     "output_type": "stream",
     "text": [
      "Training ERROR 0.21 Valid ERROR: 7.48\n"
     ]
    },
    {
     "name": "stderr",
     "output_type": "stream",
     "text": [
      "[EP11][11] TRAIN Av. Loss = 17.89: 100%|██████████| 12/12 [00:01<00:00, 10.10it/s]\n",
      "-----[99] VALID Av. Loss = 0.40: 100%|██████████| 48/48 [00:01<00:00, 30.43it/s]\n"
     ]
    },
    {
     "name": "stdout",
     "output_type": "stream",
     "text": [
      "Training ERROR 0.20 Valid ERROR: 7.42\n"
     ]
    },
    {
     "name": "stderr",
     "output_type": "stream",
     "text": [
      "[EP12][11] TRAIN Av. Loss = 24.36: 100%|██████████| 12/12 [00:01<00:00,  9.50it/s]\n",
      "-----[99] VALID Av. Loss = 0.15: 100%|██████████| 48/48 [00:01<00:00, 31.20it/s]\n"
     ]
    },
    {
     "name": "stdout",
     "output_type": "stream",
     "text": [
      "Training ERROR 0.20 Valid ERROR: 7.52\n"
     ]
    },
    {
     "name": "stderr",
     "output_type": "stream",
     "text": [
      "[EP13][11] TRAIN Av. Loss = 17.65: 100%|██████████| 12/12 [00:01<00:00,  9.95it/s]\n",
      "-----[99] VALID Av. Loss = 0.69: 100%|██████████| 48/48 [00:01<00:00, 30.26it/s]\n"
     ]
    },
    {
     "name": "stdout",
     "output_type": "stream",
     "text": [
      "Training ERROR 0.19 Valid ERROR: 7.43\n"
     ]
    },
    {
     "name": "stderr",
     "output_type": "stream",
     "text": [
      "[EP14][11] TRAIN Av. Loss = 22.17: 100%|██████████| 12/12 [00:01<00:00,  9.57it/s]\n",
      "-----[99] VALID Av. Loss = 0.64: 100%|██████████| 48/48 [00:01<00:00, 29.22it/s]\n"
     ]
    },
    {
     "name": "stdout",
     "output_type": "stream",
     "text": [
      "Training ERROR 0.17 Valid ERROR: 7.39\n"
     ]
    },
    {
     "name": "stderr",
     "output_type": "stream",
     "text": [
      "[EP15][11] TRAIN Av. Loss = 15.71: 100%|██████████| 12/12 [00:01<00:00,  9.47it/s]\n",
      "-----[99] VALID Av. Loss = 0.06: 100%|██████████| 48/48 [00:01<00:00, 29.90it/s]\n"
     ]
    },
    {
     "name": "stdout",
     "output_type": "stream",
     "text": [
      "Training ERROR 0.16 Valid ERROR: 7.33\n"
     ]
    },
    {
     "name": "stderr",
     "output_type": "stream",
     "text": [
      "[EP16][11] TRAIN Av. Loss = 15.39: 100%|██████████| 12/12 [00:01<00:00,  9.85it/s]\n",
      "-----[99] VALID Av. Loss = 0.16: 100%|██████████| 48/48 [00:01<00:00, 29.84it/s]\n"
     ]
    },
    {
     "name": "stdout",
     "output_type": "stream",
     "text": [
      "Training ERROR 0.16 Valid ERROR: 7.34\n"
     ]
    },
    {
     "name": "stderr",
     "output_type": "stream",
     "text": [
      "[EP17][11] TRAIN Av. Loss = 17.72: 100%|██████████| 12/12 [00:01<00:00,  9.52it/s]\n",
      "-----[99] VALID Av. Loss = 0.70: 100%|██████████| 48/48 [00:01<00:00, 30.18it/s]\n"
     ]
    },
    {
     "name": "stdout",
     "output_type": "stream",
     "text": [
      "Training ERROR 0.15 Valid ERROR: 7.51\n"
     ]
    },
    {
     "name": "stderr",
     "output_type": "stream",
     "text": [
      "[EP18][11] TRAIN Av. Loss = 18.49: 100%|██████████| 12/12 [00:01<00:00,  9.81it/s]\n",
      "-----[99] VALID Av. Loss = 0.17: 100%|██████████| 48/48 [00:01<00:00, 30.79it/s]\n"
     ]
    },
    {
     "name": "stdout",
     "output_type": "stream",
     "text": [
      "Training ERROR 0.14 Valid ERROR: 7.39\n"
     ]
    },
    {
     "name": "stderr",
     "output_type": "stream",
     "text": [
      "[EP19][11] TRAIN Av. Loss = 27.71: 100%|██████████| 12/12 [00:01<00:00,  9.70it/s]\n",
      "-----[99] VALID Av. Loss = 0.64: 100%|██████████| 48/48 [00:01<00:00, 29.84it/s]"
     ]
    },
    {
     "name": "stdout",
     "output_type": "stream",
     "text": [
      "Training ERROR 0.13 Valid ERROR: 7.36\n"
     ]
    },
    {
     "name": "stderr",
     "output_type": "stream",
     "text": [
      "\n"
     ]
    }
   ],
   "source": [
    "my_BNN_training_loss = []\n",
    "my_BNN_validating_loss = []\n",
    "my_BNN_MSE_inv_error = []\n",
    "\n",
    "num_epoch = 20 \n",
    "\n",
    "num_train_samples = 100\n",
    "num_test_samples = 100\n",
    "MSEloss = nn.MSELoss() \n",
    "\n",
    "for ep in range(num_epoch): \n",
    "\n",
    "\n",
    "    av_training_loss = 0\n",
    "    av_validating_loss = 0\n",
    "    av_mse_inv_error = 0\n",
    "\n",
    "\n",
    "    training_dataloader = DataLoader(TrainingData, batch_size=16, shuffle=True)\n",
    "    pbar  = tqdm(training_dataloader)\n",
    "\n",
    "    # Setting model for training\n",
    "    myBNN_Model = myBayesModel.train()\n",
    "    for i, (X, y_gt) in enumerate(pbar):  \n",
    "        \n",
    "        myBNN_Model.zero_grad() \n",
    "        loss           = myBNN_Model.ELBO_loss(X, y_gt, num_samples=num_train_samples)\n",
    "\n",
    "        loss.backward()  # Backward pass\n",
    "        optimizer.step()  # Optimize parameters\n",
    "        av_training_loss += loss.item()  \n",
    "\n",
    "        pbar.set_description(\"[EP%d][%d] TRAIN Av. Loss = %0.2f\" % (ep, i, loss.item() ))\n",
    "\n",
    "    my_BNN_training_loss.append(av_training_loss/(16*(i+1)))\n",
    "\n",
    "    # Setting model for validating \n",
    "    valid_dataloader = DataLoader(ValidateData, batch_size=1, shuffle=True)\n",
    "    pbar  = tqdm(valid_dataloader)\n",
    "    \n",
    "    myBNN_Model.eval()\n",
    "    correct = 0\n",
    "    corrects = np.zeros(num_test_samples+1, dtype=int)\n",
    "\n",
    "    for i, (X, y_gt) in enumerate(pbar):  \n",
    "\n",
    "        b, cl = y_gt.shape \n",
    "        outputs        = torch.zeros(num_test_samples+1, b)\n",
    "    \n",
    "        with torch.no_grad():\n",
    "            for i in range(num_test_samples):\n",
    "                outputs[i,:]         = myBNN_Model(X, sample=True) \n",
    "\n",
    "            outputs[num_test_samples, :] = myBNN_Model(X, sample=False) \n",
    "\n",
    "        y_pred = outputs.mean().view(1,-1) \n",
    " \n",
    "        y_pred_inverse = ValidateData.YScaler.inverse_transform(y_pred)\n",
    "        y_gt_inverse   = ValidateData.YScaler.inverse_transform(y_gt)\n",
    "\n",
    "        valid_loss      = MSEloss(y_pred, y_gt)\n",
    "        mse_inv_error   = MSEloss(torch.tensor(y_pred_inverse), torch.tensor(y_gt_inverse))\n",
    "\n",
    "        av_validating_loss += valid_loss.item() \n",
    "        av_mse_inv_error += mse_inv_error.item() \n",
    "        pbar.set_description(\"-----[%d] VALID Av. Loss = %0.2f\" % ( i, valid_loss.item()))  \n",
    "\n",
    "    print(\"Training ERROR %0.2f Valid ERROR: %0.2f\" %(av_training_loss/(16*(i+1)), av_mse_inv_error/(i+1)))\n",
    "\n",
    "    my_BNN_validating_loss.append(av_validating_loss/(i+1))\n",
    "    my_BNN_MSE_inv_error.append(av_mse_inv_error/(i+1))"
   ]
  },
  {
   "cell_type": "markdown",
   "metadata": {},
   "source": [
    "## Learning Performance"
   ]
  },
  {
   "cell_type": "code",
   "execution_count": 17,
   "metadata": {},
   "outputs": [
    {
     "data": {
      "image/png": "[encoded data removed]",
      "text/plain": [
       "<Figure size 640x480 with 1 Axes>"
      ]
     },
     "metadata": {},
     "output_type": "display_data"
    }
   ],
   "source": [
    "plt.plot(np.arange(len(my_NN_training_loss)), my_NN_training_loss, 'b-', label='Training NN')\n",
    "plt.plot(np.arange(len(my_NN_validating_loss)),my_NN_validating_loss, 'b--', label='Validation NN')\n",
    "plt.plot(np.arange(len(my_BNN_training_loss)), my_BNN_training_loss, 'r-', label='Training BNN')\n",
    "plt.plot(np.arange(len(my_BNN_validating_loss)),my_BNN_validating_loss, 'r--', label='Validation BNN')\n",
    "plt.title('Training and Validation Loss')\n",
    "plt.xlabel('Iterations')\n",
    "plt.ylabel('MSE Loss')\n",
    "plt.legend()\n",
    "plt.grid(True)\n",
    "plt.show()"
   ]
  },
  {
   "cell_type": "code",
   "execution_count": 20,
   "metadata": {},
   "outputs": [
    {
     "data": {
      "image/png": "[encoded data removed]",
      "text/plain": [
       "<Figure size 640x480 with 1 Axes>"
      ]
     },
     "metadata": {},
     "output_type": "display_data"
    }
   ],
   "source": [
    "plt.plot(np.arange(len(my_NN_validating_loss)),my_NN_validating_loss, 'b--', label='Validation NN') \n",
    "plt.plot(np.arange(len(my_BNN_validating_loss)),my_BNN_validating_loss, 'r--', label='Validation BNN')\n",
    "plt.title('Validation Loss')\n",
    "plt.xlabel('Iterations')\n",
    "plt.ylabel('MSE Loss')\n",
    "plt.legend()\n",
    "plt.grid(True)\n",
    "plt.show()"
   ]
  },
  {
   "cell_type": "code",
   "execution_count": 21,
   "metadata": {},
   "outputs": [
    {
     "data": {
      "image/png": "[encoded data removed]",
      "text/plain": [
       "<Figure size 640x480 with 1 Axes>"
      ]
     },
     "metadata": {},
     "output_type": "display_data"
    }
   ],
   "source": [
    "plt.plot(np.arange(len(my_NN_MSE_inv_error)),my_NN_MSE_inv_error, 'b--', label='MSE Validation NN') \n",
    "plt.plot(np.arange(len(my_BNN_MSE_inv_error)),my_BNN_MSE_inv_error, 'r--', label='MSE Validation BNN')\n",
    "plt.title('MSE Validation Loss')\n",
    "plt.xlabel('Iterations')\n",
    "plt.ylabel('MSE Loss')\n",
    "plt.legend()\n",
    "plt.grid(True)\n",
    "plt.show()"
   ]
  },
  {
   "cell_type": "markdown",
   "metadata": {},
   "source": [
    "## Testing Performance"
   ]
  },
  {
   "cell_type": "code",
   "execution_count": 23,
   "metadata": {},
   "outputs": [
    {
     "name": "stderr",
     "output_type": "stream",
     "text": [
      "  0%|          | 0/61 [00:00<?, ?it/s]"
     ]
    }
   ],
   "source": [
    "testing_dataloader = DataLoader(TestingData, batch_size=1, shuffle=False)"
   ]
  },
  {
   "cell_type": "code",
   "execution_count": 29,
   "metadata": {},
   "outputs": [
    {
     "name": "stderr",
     "output_type": "stream",
     "text": [
      "-----[60] Static NN Testing Av. Loss = 14.74: 100%|██████████| 61/61 [00:00<00:00, 2876.17it/s]\n"
     ]
    }
   ],
   "source": [
    "myLinModel.eval()\n",
    "av_valid_loss = 0\n",
    "av_mse_valid_loss = 0\n",
    "pbar  = tqdm(testing_dataloader)\n",
    "for i, (X, y_gt) in enumerate(pbar):  \n",
    "\n",
    "    with torch.no_grad():\n",
    "        y_pred         = myLinModel(X)  \n",
    "\n",
    "    y_pred_inverse = ValidateData.YScaler.inverse_transform(y_pred)\n",
    "    y_gt_inverse   = ValidateData.YScaler.inverse_transform(y_gt)\n",
    "\n",
    "    valid_loss      = myLinModel.mseloss(y_pred, y_gt)\n",
    "    mse_inv_error   = myLinModel.mseloss(torch.tensor(y_pred_inverse), torch.tensor(y_gt_inverse))\n",
    "\n",
    "    av_valid_loss += valid_loss.item()\n",
    "    av_mse_valid_loss +=mse_inv_error.item()  \n",
    "\n",
    "\n",
    "    pbar.set_description(\"-----[%d] Static NN Testing Av. Loss = %0.2f\" % ( i, av_mse_valid_loss/(i+1)))     "
   ]
  },
  {
   "cell_type": "code",
   "execution_count": 30,
   "metadata": {},
   "outputs": [
    {
     "name": "stderr",
     "output_type": "stream",
     "text": [
      "-----[99] BNN Testing Av. Loss = 8.27: 100%|██████████| 61/61 [00:02<00:00, 30.27it/s]\n"
     ]
    }
   ],
   "source": [
    "av_validating_loss = 0\n",
    "av_mse_inv_error   = 0\n",
    "\n",
    "myBNN_Model.eval() \n",
    "pbar  = tqdm(testing_dataloader) \n",
    "for i, (X, y_gt) in enumerate(pbar):  \n",
    "\n",
    "    b, cl = y_gt.shape \n",
    "    outputs        = torch.zeros(num_test_samples+1, b)\n",
    "\n",
    "    with torch.no_grad():\n",
    "        for i in range(num_test_samples):\n",
    "            outputs[i,:]         = myBNN_Model(X, sample=True) \n",
    "\n",
    "        outputs[num_test_samples, :] = myBNN_Model(X, sample=False) \n",
    "\n",
    "    y_pred = outputs.mean().view(1,-1) \n",
    "\n",
    "    y_pred_inverse = ValidateData.YScaler.inverse_transform(y_pred)\n",
    "    y_gt_inverse   = ValidateData.YScaler.inverse_transform(y_gt)\n",
    "\n",
    "    valid_loss      = MSEloss(y_pred, y_gt)\n",
    "    mse_inv_error   = MSEloss(torch.tensor(y_pred_inverse), torch.tensor(y_gt_inverse))\n",
    "\n",
    "    av_validating_loss += valid_loss.item() \n",
    "    av_mse_inv_error += mse_inv_error.item() \n",
    "    \n",
    "    pbar.set_description(\"-----[%d] BNN Testing Av. Loss = %0.2f\" % ( i, av_mse_inv_error/(i+1)))  \n",
    "\n",
    " "
   ]
  }
 ],
 "metadata": {
  "kernelspec": {
   "display_name": "EE575",
   "language": "python",
   "name": "python3"
  },
  "language_info": {
   "codemirror_mode": {
    "name": "ipython",
    "version": 3
   },
   "file_extension": ".py",
   "mimetype": "text/x-python",
   "name": "python",
   "nbconvert_exporter": "python",
   "pygments_lexer": "ipython3",
   "version": "3.12.0"
  }
 },
 "nbformat": 4,
 "nbformat_minor": 2
}
