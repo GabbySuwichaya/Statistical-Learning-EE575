{
 "cells": [
  {
   "cell_type": "markdown",
   "metadata": {},
   "source": [
    "Before you turn this problem in, make sure everything runs as expected. First, **restart the kernel** (in the menubar, select Kernel$\\rightarrow$Restart) and then **run all cells** (in the menubar, select Cell$\\rightarrow$Run All).\n",
    "\n",
    "Make sure you fill in any place that says `YOUR CODE HERE` or \"YOUR ANSWER HERE\", as well as your name and collaborators below:"
   ]
  },
  {
   "cell_type": "code",
   "execution_count": null,
   "metadata": {},
   "outputs": [],
   "source": [
    "NAME = \"\"\n",
    "ID = \"\""
   ]
  },
  {
   "cell_type": "markdown",
   "metadata": {},
   "source": [
    "---"
   ]
  },
  {
   "cell_type": "markdown",
   "metadata": {},
   "source": [
    "## Laboratory 2"
   ]
  },
  {
   "cell_type": "markdown",
   "metadata": {},
   "source": [
    "### Statistical Inference EE 2102575:"
   ]
  },
  {
   "cell_type": "markdown",
   "metadata": {},
   "source": [
    "[![Open In Colab](https://colab.research.google.com/assets/colab-badge.svg)](https://colab.research.google.com/github/GabbySuwichaya/Statistical-Learning-EE575/blob/master/LAB2/main.ipynb)"
   ]
  },
  {
   "cell_type": "markdown",
   "metadata": {},
   "source": [
    "- [Task 1. Neural network quiz](#task-1-neural-network-quiz)\n",
    "- [Task 2. Implementatoin](#task-2-static-nn-vs-bnn-implementations)"
   ]
  },
  {
   "cell_type": "markdown",
   "metadata": {},
   "source": [
    "Scoring\n",
    "\n",
    "- [3 scores] Task 1. Neural Network Quiz\n",
    " \n",
    "- [17 scores] Static NN Implementations  ... \n",
    "    \n",
    "    1. [4 scores, if the model is correct] The first 3-5 layers are linear layers  + 1 activation (you can choose any function)\n",
    "\n",
    "    2. [4 scores, if the data loading is correct]  Choose 5-10 features as the inputs (also gives the reason why) and 1 output for the house price. \n",
    "\n",
    "    3. [1 scores, if the data spliting is correct]  Split the `house-price` datasets into training 80% and testing 20%. In the training part, divide 10% of the training data for validation. \n",
    "\n",
    "    4. [3+3 scores, if the learning is correct] Show the progress of the training and validation losses.  \n",
    "\n",
    "    5. [2 scores, if the results are reasonable] Perform the evaluation using MSE, MAE, and R^2 \n",
    "    \n",
    " After you finished, please let me know and I will mark the codes...  \n",
    "\n",
    "\n",
    "- [40 scores Homeworks]  BNN Implementations and compare with Static NN Homework\n",
    "\n",
    "    1. [15 scores] BNN Model  \n",
    "        - Bayesian Linear Model \n",
    "        - Bayesian Linear Layer\n",
    "        - Gaussian Mixture Prior + any other auxiliary functions\n",
    "\n",
    "    2. [10 scores] Training \n",
    "        - ELBO loss is correct \n",
    "        - Sampling is correct\n",
    "\n",
    "    3. [4 scores] validation after each training \n",
    "        - Use reasonable measure to guage the results.\n",
    "\n",
    "    4. [3+3 scores, if the learning is correct] Show the progress of the training and validation losses for both models.  \n",
    "\n",
    "    5. [10 scores, if the results are reasonable] Perform the evaluation using MSE, MAE, and R^2 "
   ]
  },
  {
   "cell_type": "markdown",
   "metadata": {},
   "source": [
    "--------------------------------------------------"
   ]
  },
  {
   "cell_type": "markdown",
   "metadata": {},
   "source": [
    "#### Installing packages"
   ]
  },
  {
   "cell_type": "code",
   "execution_count": null,
   "metadata": {},
   "outputs": [],
   "source": [
    "# ! pip3 install torch torchvision torchaudio \n",
    "# ! pip install torchviz \n",
    "# ! pip install graphviz"
   ]
  },
  {
   "cell_type": "markdown",
   "metadata": {},
   "source": [
    "## Task 1. Neural Network Quiz"
   ]
  },
  {
   "cell_type": "code",
   "execution_count": null,
   "metadata": {},
   "outputs": [],
   "source": [
    "import torch\n",
    "import torch.nn as nn\n",
    "import torch.optim as optim\n",
    "import torchvision.transforms as transforms\n",
    "from torch.utils.data import DataLoader\n",
    "from PIL import Image\n",
    " \n",
    "from torchviz import make_dot"
   ]
  },
  {
   "cell_type": "code",
   "execution_count": null,
   "metadata": {},
   "outputs": [],
   "source": [
    "class SimpleNN(nn.Module):\n",
    "    def __init__(self):\n",
    "        super(SimpleNN, self).__init__() \n",
    "        self.fc1 = nn.Linear(10, 1)  \n",
    "        self.fc2 = nn.Sigmoid()  \n",
    " \n",
    "    def forward(self, x):  \n",
    "        x = self.fc1(x) \n",
    "        x = self.fc2(x)  \n",
    "        return x\n",
    "     \n",
    "# Move the model to the GPU\n",
    "device = torch.device(\"cuda:0\" if torch.cuda.is_available() else \"cpu\")\n",
    "simple_nn = SimpleNN() "
   ]
  },
  {
   "cell_type": "markdown",
   "metadata": {},
   "source": [
    "-----------------------------------------------"
   ]
  },
  {
   "cell_type": "markdown",
   "metadata": {
    "deletable": false,
    "editable": false,
    "nbgrader": {
     "cell_type": "markdown",
     "checksum": "b27c7c81e9368381eb7b0251ea5074ec",
     "grade": false,
     "grade_id": "cell-6b24e0356dcedd07",
     "locked": true,
     "points": 1,
     "schema_version": 3,
     "solution": false,
     "task": true
    }
   },
   "source": [
    "Q1. What is the number of learnable parameters in `SimpleNN` ?  Check this by coding and explain why"
   ]
  },
  {
   "cell_type": "code",
   "execution_count": null,
   "metadata": {
    "deletable": false,
    "nbgrader": {
     "cell_type": "code",
     "checksum": "f1cfdfb7084e6026666746744a6efdb3",
     "grade": false,
     "grade_id": "cell-aeae89d882b4e16f",
     "locked": false,
     "schema_version": 3,
     "solution": true,
     "task": false
    }
   },
   "outputs": [],
   "source": [
    "def count_parameters(model):\n",
    "    # YOUR CODE HERE\n",
    "    raise NotImplementedError()"
   ]
  },
  {
   "cell_type": "code",
   "execution_count": null,
   "metadata": {},
   "outputs": [],
   "source": [
    "num_params = count_parameters(simple_nn)\n",
    "print(num_params)"
   ]
  },
  {
   "cell_type": "markdown",
   "metadata": {},
   "source": [
    "Explain in the cell below ..."
   ]
  },
  {
   "cell_type": "markdown",
   "metadata": {},
   "source": []
  },
  {
   "cell_type": "markdown",
   "metadata": {},
   "source": [
    "-------------------------------------------------------------------------"
   ]
  },
  {
   "cell_type": "markdown",
   "metadata": {
    "deletable": false,
    "editable": false,
    "nbgrader": {
     "cell_type": "markdown",
     "checksum": "f59226cef55b419d7b899d6fc9e53def",
     "grade": false,
     "grade_id": "cell-22dc4ae74dc53ae7",
     "locked": true,
     "points": 1,
     "schema_version": 3,
     "solution": false,
     "task": true
    }
   },
   "source": [
    "Q2. Can you try to visualize the computational graph of `SimpleNN`? \n",
    "\n",
    "Hint! You can use `make_dot` imported from `torchviz` package"
   ]
  },
  {
   "cell_type": "markdown",
   "metadata": {},
   "source": []
  },
  {
   "cell_type": "code",
   "execution_count": null,
   "metadata": {
    "deletable": false,
    "nbgrader": {
     "cell_type": "code",
     "checksum": "0c01b599fa99be130ffab55374660eec",
     "grade": false,
     "grade_id": "cell-93f4393ca17a27b9",
     "locked": false,
     "schema_version": 3,
     "solution": true,
     "task": false
    }
   },
   "outputs": [],
   "source": [
    "# YOUR CODE HERE\n",
    "raise NotImplementedError()"
   ]
  },
  {
   "cell_type": "code",
   "execution_count": null,
   "metadata": {},
   "outputs": [],
   "source": []
  },
  {
   "cell_type": "code",
   "execution_count": null,
   "metadata": {},
   "outputs": [],
   "source": []
  },
  {
   "cell_type": "markdown",
   "metadata": {},
   "source": [
    "---------------------------------------------------------------------"
   ]
  },
  {
   "cell_type": "markdown",
   "metadata": {
    "deletable": false,
    "editable": false,
    "nbgrader": {
     "cell_type": "markdown",
     "checksum": "600d7101067a3da761c828b5623161ba",
     "grade": false,
     "grade_id": "cell-944b9c8812134a19",
     "locked": true,
     "points": 1,
     "schema_version": 3,
     "solution": false,
     "task": true
    }
   },
   "source": [
    "Q3. Explain how the weights and biases are updated mathematically by showing the gradient calculation (just like in the Lecture 10).  "
   ]
  },
  {
   "cell_type": "markdown",
   "metadata": {},
   "source": []
  },
  {
   "cell_type": "markdown",
   "metadata": {},
   "source": []
  },
  {
   "cell_type": "markdown",
   "metadata": {},
   "source": []
  },
  {
   "cell_type": "markdown",
   "metadata": {},
   "source": []
  },
  {
   "cell_type": "markdown",
   "metadata": {},
   "source": []
  },
  {
   "cell_type": "markdown",
   "metadata": {},
   "source": [
    "----------------------------------------------------------------------------------------"
   ]
  },
  {
   "cell_type": "markdown",
   "metadata": {},
   "source": [
    "## Task 2. Static NN vs BNN Implementations  "
   ]
  },
  {
   "cell_type": "markdown",
   "metadata": {
    "deletable": false,
    "editable": false,
    "nbgrader": {
     "cell_type": "markdown",
     "checksum": "ce6d61b6498cd495a41defa7efe4c522",
     "grade": false,
     "grade_id": "cell-75f441e7a0f44f66",
     "locked": true,
     "points": 17,
     "schema_version": 3,
     "solution": false,
     "task": true
    }
   },
   "source": [
    "Q4. Implement the following architectures for static DNN called `MyNN`. [17 scores]\n",
    "\n",
    "    1. [4 scores, if the model is correct] The first 3-5 layers are linear layers  + 1 activation (you can choose any function)\n",
    "\n",
    "    2. [4 scores, if the data loading is correct]  Choose 5-10 features as the inputs (also gives the reason why) and 1 output for the house price. \n",
    "\n",
    "    3. [1 scores, if the data spliting is correct]  Split the `house-price` datasets into training 80% and testing 20%. In the training part, divide 10% of the training data for validation. \n",
    "\n",
    "    4. [3+3 scores, if the learning is correct] Show the progress of the training and validation losses.  \n",
    "\n",
    "    5. [2 scores, if the results are reasonable] Perform the evaluation using MSE, MAE, and R^2 \n",
    "\n",
    "-----------------------------------------------------------------------------------------------------------\n",
    " "
   ]
  },
  {
   "cell_type": "markdown",
   "metadata": {
    "deletable": false,
    "editable": false,
    "nbgrader": {
     "cell_type": "markdown",
     "checksum": "8fe9132c98881757dbc7186677ef3dc9",
     "grade": false,
     "grade_id": "cell-ec87f509d45f1b1d",
     "locked": true,
     "points": 40,
     "schema_version": 3,
     "solution": false,
     "task": true
    }
   },
   "source": [
    "Q5. Implement a similar BNN called `MyBNN` with the same settings, and compare the results with `MyNN`. ...  \n",
    "\n",
    "[40 scores Homeworks]  BNN Implementations and compare with Static NN Homework\n",
    "\n",
    "    1. [15 scores] BNN Model  \n",
    "        - Bayesian Linear Model \n",
    "        - Bayesian Linear Layer\n",
    "        - Gaussian Mixture Prior + any other auxiliary functions\n",
    "\n",
    "    2. [10 scores] Training \n",
    "        - ELBO loss is correct \n",
    "        - Sampling is correct\n",
    "\n",
    "    3. [4 scores] validation after each training \n",
    "        - Use reasonable measure to guage the results.\n",
    "\n",
    "    4. [3+3 scores, if the learning is correct] Show the progress of the training and validation losses for both models.  \n",
    "\n",
    "    5. [10 scores, if the results are reasonable] Perform the evaluation using MSE, MAE, and R^2 "
   ]
  },
  {
   "cell_type": "markdown",
   "metadata": {},
   "source": [
    "#### Customized data loader "
   ]
  },
  {
   "cell_type": "code",
   "execution_count": null,
   "metadata": {},
   "outputs": [],
   "source": [
    "import torchvision.datasets as datasets\n",
    "from torch.utils.data import Dataset, DataLoader\n",
    "from sklearn.preprocessing import LabelEncoder, StandardScaler"
   ]
  },
  {
   "cell_type": "code",
   "execution_count": null,
   "metadata": {},
   "outputs": [],
   "source": [
    "class CustomDataset(Dataset):\n",
    "    def __init__(self, X_train_, y_train_, X_test_=None, y_test_=None, mode=\"Train\"):\n",
    "        self.training_data  = X_train_\n",
    "        self.training_label = y_train_\n",
    "        \n",
    "        if mode == \"Train\":\n",
    "            self.data  = X_train_\n",
    "            self.label = y_train_\n",
    "            self.length = X_train_.shape[0]\n",
    "\n",
    "        elif  mode == \"Test\" or mode == \"Valid\":\n",
    "            assert X_test_ is not None\n",
    "            assert y_test_ is not None\n",
    "\n",
    "            self.data   = X_test_\n",
    "            self.label  = y_test_\n",
    "            self.length = X_test_.shape[0]\n",
    " \n",
    "\n",
    "        self.XScaler    = StandardScaler()\n",
    "        self.training_data = self.XScaler.fit_transform(self.training_data).astype(\"float32\")\n",
    "        self.data          = self.XScaler.transform(self.data).astype(\"float32\") \n",
    "\n",
    "        self.YScaler = StandardScaler()\n",
    "        self.training_label = self.YScaler.fit_transform(self.training_label).astype(\"float32\") \n",
    "        self.label          = self.YScaler.transform(self.label).astype(\"float32\")\n",
    "\n",
    "    def __len__(self):\n",
    "        return self.length\n",
    "\n",
    "    def __getitem__(self, idx):\n",
    "        sample = self.data[idx, :] \n",
    "        label  = self.label[idx] \n",
    "        return sample, label"
   ]
  },
  {
   "cell_type": "code",
   "execution_count": null,
   "metadata": {},
   "outputs": [],
   "source": [
    "foldername = \"house-prices\"\n",
    "\n",
    "import zipfile \n",
    "with zipfile.ZipFile(\"house-prices-advanced-regression-techniques.zip\",\"r\") as zip_ref:\n",
    "    zip_ref.extractall(foldername) "
   ]
  },
  {
   "cell_type": "markdown",
   "metadata": {},
   "source": [
    "Example usage"
   ]
  },
  {
   "cell_type": "code",
   "execution_count": null,
   "metadata": {},
   "outputs": [],
   "source": [
    "from sklearn.model_selection import train_test_split\n",
    "\n",
    "from sklearn.preprocessing import LabelEncoder\n",
    "from sklearn.preprocessing import StandardScaler\n",
    "import pandas as pd\n",
    "\n",
    "foldername = \"house-prices\"\n",
    "df = pd.read_csv('%s/train.csv' % foldername)  \n",
    "\n",
    "Feat_List = ['HouseStyle']\n",
    "df[['HouseStyle']] = df.loc[:,['HouseStyle']].apply(LabelEncoder().fit_transform)\n",
    "X = df.loc[:, Feat_List].values\n",
    "Y = df['SalePrice'].values.reshape(-1,1)  \n",
    "\n",
    "\n",
    "X_train_, X_test_, y_train_, y_test_ = train_test_split(X, Y, test_size=0.2, random_state= 0) \n",
    "TestingData  = CustomDataset(X_train_, y_train_, X_test_, y_test_, mode=\"Test\")"
   ]
  },
  {
   "cell_type": "markdown",
   "metadata": {},
   "source": [
    "--------------------------------------------"
   ]
  },
  {
   "cell_type": "markdown",
   "metadata": {},
   "source": [
    "Your code starts from here:\n",
    "\n",
    "```\n",
    "    from sklearn.preprocessing import LabelEncoder\n",
    "    from sklearn.preprocessing import StandardScaler\n",
    "    import pandas as pd\n",
    "\n",
    "    foldername = \"house-prices\"\n",
    "    df = pd.read_csv('%s/train.csv' % foldername)  \n",
    "\n",
    "    Feat_List = ['HouseStyle', 'LotArea']\n",
    "    df[['HouseStyle']] = df.loc[:,['HouseStyle']].apply(LabelEncoder().fit_transform)\n",
    "    X = df.loc[:, Feat_List].values\n",
    "    Y = df['SalePrice'].values.reshape(-1,1)  \n",
    "\n",
    "```"
   ]
  },
  {
   "cell_type": "code",
   "execution_count": null,
   "metadata": {},
   "outputs": [],
   "source": []
  },
  {
   "cell_type": "code",
   "execution_count": null,
   "metadata": {},
   "outputs": [],
   "source": []
  },
  {
   "cell_type": "code",
   "execution_count": null,
   "metadata": {},
   "outputs": [],
   "source": []
  },
  {
   "cell_type": "code",
   "execution_count": null,
   "metadata": {},
   "outputs": [],
   "source": []
  },
  {
   "cell_type": "code",
   "execution_count": null,
   "metadata": {},
   "outputs": [],
   "source": []
  },
  {
   "cell_type": "code",
   "execution_count": null,
   "metadata": {},
   "outputs": [],
   "source": []
  },
  {
   "cell_type": "code",
   "execution_count": null,
   "metadata": {},
   "outputs": [],
   "source": []
  },
  {
   "cell_type": "code",
   "execution_count": null,
   "metadata": {},
   "outputs": [],
   "source": []
  },
  {
   "cell_type": "code",
   "execution_count": null,
   "metadata": {},
   "outputs": [],
   "source": []
  },
  {
   "cell_type": "code",
   "execution_count": null,
   "metadata": {},
   "outputs": [],
   "source": []
  },
  {
   "cell_type": "code",
   "execution_count": null,
   "metadata": {},
   "outputs": [],
   "source": []
  },
  {
   "cell_type": "code",
   "execution_count": null,
   "metadata": {},
   "outputs": [],
   "source": []
  },
  {
   "cell_type": "code",
   "execution_count": null,
   "metadata": {},
   "outputs": [],
   "source": []
  },
  {
   "cell_type": "code",
   "execution_count": null,
   "metadata": {},
   "outputs": [],
   "source": []
  },
  {
   "cell_type": "code",
   "execution_count": null,
   "metadata": {},
   "outputs": [],
   "source": []
  },
  {
   "cell_type": "code",
   "execution_count": null,
   "metadata": {},
   "outputs": [],
   "source": []
  }
 ],
 "metadata": {
  "kernelspec": {
   "display_name": "Python 3 (ipykernel)",
   "language": "python",
   "name": "python3"
  },
  "language_info": {
   "codemirror_mode": {
    "name": "ipython",
    "version": 3
   },
   "file_extension": ".py",
   "mimetype": "text/x-python",
   "name": "python",
   "nbconvert_exporter": "python",
   "pygments_lexer": "ipython3",
   "version": "3.11.7"
  }
 },
 "nbformat": 4,
 "nbformat_minor": 4
}
